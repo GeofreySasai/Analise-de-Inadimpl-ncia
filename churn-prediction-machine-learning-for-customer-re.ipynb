{
 "cells": [
  {
   "cell_type": "markdown",
   "id": "0a605600",
   "metadata": {
    "papermill": {
     "duration": 0.006299,
     "end_time": "2024-01-12T15:26:43.190623",
     "exception": false,
     "start_time": "2024-01-12T15:26:43.184324",
     "status": "completed"
    },
    "tags": []
   },
   "source": [
    "# Customer Churn Prediction in Banking\n",
    "\n",
    "## Welcome to my project: My mission is to build a basic model that can tell us whether a customer is likely to stay or leave a bank."
   ]
  },
  {
   "cell_type": "code",
   "execution_count": 1,
   "id": "cfedf9e6",
   "metadata": {
    "execution": {
     "iopub.execute_input": "2024-01-12T15:26:43.203519Z",
     "iopub.status.busy": "2024-01-12T15:26:43.202710Z",
     "iopub.status.idle": "2024-01-12T15:26:45.189202Z",
     "shell.execute_reply": "2024-01-12T15:26:45.187865Z"
    },
    "papermill": {
     "duration": 1.995963,
     "end_time": "2024-01-12T15:26:45.192324",
     "exception": false,
     "start_time": "2024-01-12T15:26:43.196361",
     "status": "completed"
    },
    "tags": []
   },
   "outputs": [],
   "source": [
    "import pandas as pd\n",
    "import matplotlib.pyplot as plt\n",
    "import numpy as np\n",
    "\n",
    "from sklearn.model_selection import train_test_split\n",
    "from sklearn.preprocessing import StandardScaler, OneHotEncoder\n",
    "from sklearn.compose import ColumnTransformer\n",
    "from sklearn.pipeline import Pipeline\n",
    "from sklearn.linear_model import LogisticRegression\n",
    "from sklearn.metrics import accuracy_score, roc_auc_score, roc_curve, auc"
   ]
  },
  {
   "cell_type": "markdown",
   "id": "1a8304f9",
   "metadata": {
    "papermill": {
     "duration": 0.004499,
     "end_time": "2024-01-12T15:26:45.201903",
     "exception": false,
     "start_time": "2024-01-12T15:26:45.197404",
     "status": "completed"
    },
    "tags": []
   },
   "source": [
    "# Load the databases"
   ]
  },
  {
   "cell_type": "code",
   "execution_count": 2,
   "id": "0bf4e337",
   "metadata": {
    "execution": {
     "iopub.execute_input": "2024-01-12T15:26:45.214014Z",
     "iopub.status.busy": "2024-01-12T15:26:45.213383Z",
     "iopub.status.idle": "2024-01-12T15:26:45.997764Z",
     "shell.execute_reply": "2024-01-12T15:26:45.996655Z"
    },
    "papermill": {
     "duration": 0.793418,
     "end_time": "2024-01-12T15:26:46.000511",
     "exception": false,
     "start_time": "2024-01-12T15:26:45.207093",
     "status": "completed"
    },
    "tags": []
   },
   "outputs": [],
   "source": [
    "# Load the train.csv\n",
    "train_csv_path = '/kaggle/input/playground-series-s4e1/train.csv'\n",
    "df_train = pd.read_csv(train_csv_path)\n",
    "\n",
    "# Load the test.csv\n",
    "test_csv_path = '/kaggle/input/playground-series-s4e1/test.csv'\n",
    "df_test = pd.read_csv(test_csv_path)"
   ]
  },
  {
   "cell_type": "markdown",
   "id": "69276bf6",
   "metadata": {
    "papermill": {
     "duration": 0.004535,
     "end_time": "2024-01-12T15:26:46.009980",
     "exception": false,
     "start_time": "2024-01-12T15:26:46.005445",
     "status": "completed"
    },
    "tags": []
   },
   "source": [
    "# Remove unnecessary columns and check for empty fields"
   ]
  },
  {
   "cell_type": "code",
   "execution_count": 3,
   "id": "03219179",
   "metadata": {
    "execution": {
     "iopub.execute_input": "2024-01-12T15:26:46.022159Z",
     "iopub.status.busy": "2024-01-12T15:26:46.020971Z",
     "iopub.status.idle": "2024-01-12T15:26:46.093925Z",
     "shell.execute_reply": "2024-01-12T15:26:46.092556Z"
    },
    "papermill": {
     "duration": 0.082153,
     "end_time": "2024-01-12T15:26:46.096833",
     "exception": false,
     "start_time": "2024-01-12T15:26:46.014680",
     "status": "completed"
    },
    "tags": []
   },
   "outputs": [
    {
     "name": "stdout",
     "output_type": "stream",
     "text": [
      "Missing values in training set:\n",
      " id                 0\n",
      "CreditScore        0\n",
      "Geography          0\n",
      "Gender             0\n",
      "Age                0\n",
      "Tenure             0\n",
      "Balance            0\n",
      "NumOfProducts      0\n",
      "HasCrCard          0\n",
      "IsActiveMember     0\n",
      "EstimatedSalary    0\n",
      "Exited             0\n",
      "dtype: int64\n",
      "\n",
      "Missing values in test set:\n",
      " id                 0\n",
      "CreditScore        0\n",
      "Geography          0\n",
      "Gender             0\n",
      "Age                0\n",
      "Tenure             0\n",
      "Balance            0\n",
      "NumOfProducts      0\n",
      "HasCrCard          0\n",
      "IsActiveMember     0\n",
      "EstimatedSalary    0\n",
      "dtype: int64\n"
     ]
    }
   ],
   "source": [
    "# Remove unnecessary columns 'CustomerId' and 'Surname'\n",
    "df_train = df_train.drop(['CustomerId', 'Surname'], axis=1)\n",
    "df_test = df_test.drop(['CustomerId', 'Surname'], axis=1)\n",
    "\n",
    "# Check for missing values\n",
    "print(\"Missing values in training set:\\n\", df_train.isnull().sum())\n",
    "print(\"\\nMissing values in test set:\\n\", df_test.isnull().sum())"
   ]
  },
  {
   "cell_type": "markdown",
   "id": "dde53666",
   "metadata": {
    "papermill": {
     "duration": 0.005262,
     "end_time": "2024-01-12T15:26:46.107362",
     "exception": false,
     "start_time": "2024-01-12T15:26:46.102100",
     "status": "completed"
    },
    "tags": []
   },
   "source": [
    "# Training"
   ]
  },
  {
   "cell_type": "code",
   "execution_count": 4,
   "id": "0d5741fd",
   "metadata": {
    "execution": {
     "iopub.execute_input": "2024-01-12T15:26:46.119348Z",
     "iopub.status.busy": "2024-01-12T15:26:46.118865Z",
     "iopub.status.idle": "2024-01-12T15:26:46.928300Z",
     "shell.execute_reply": "2024-01-12T15:26:46.926970Z"
    },
    "papermill": {
     "duration": 0.819861,
     "end_time": "2024-01-12T15:26:46.932223",
     "exception": false,
     "start_time": "2024-01-12T15:26:46.112362",
     "status": "completed"
    },
    "tags": []
   },
   "outputs": [
    {
     "data": {
      "text/html": [
       "<style>#sk-container-id-1 {color: black;background-color: white;}#sk-container-id-1 pre{padding: 0;}#sk-container-id-1 div.sk-toggleable {background-color: white;}#sk-container-id-1 label.sk-toggleable__label {cursor: pointer;display: block;width: 100%;margin-bottom: 0;padding: 0.3em;box-sizing: border-box;text-align: center;}#sk-container-id-1 label.sk-toggleable__label-arrow:before {content: \"▸\";float: left;margin-right: 0.25em;color: #696969;}#sk-container-id-1 label.sk-toggleable__label-arrow:hover:before {color: black;}#sk-container-id-1 div.sk-estimator:hover label.sk-toggleable__label-arrow:before {color: black;}#sk-container-id-1 div.sk-toggleable__content {max-height: 0;max-width: 0;overflow: hidden;text-align: left;background-color: #f0f8ff;}#sk-container-id-1 div.sk-toggleable__content pre {margin: 0.2em;color: black;border-radius: 0.25em;background-color: #f0f8ff;}#sk-container-id-1 input.sk-toggleable__control:checked~div.sk-toggleable__content {max-height: 200px;max-width: 100%;overflow: auto;}#sk-container-id-1 input.sk-toggleable__control:checked~label.sk-toggleable__label-arrow:before {content: \"▾\";}#sk-container-id-1 div.sk-estimator input.sk-toggleable__control:checked~label.sk-toggleable__label {background-color: #d4ebff;}#sk-container-id-1 div.sk-label input.sk-toggleable__control:checked~label.sk-toggleable__label {background-color: #d4ebff;}#sk-container-id-1 input.sk-hidden--visually {border: 0;clip: rect(1px 1px 1px 1px);clip: rect(1px, 1px, 1px, 1px);height: 1px;margin: -1px;overflow: hidden;padding: 0;position: absolute;width: 1px;}#sk-container-id-1 div.sk-estimator {font-family: monospace;background-color: #f0f8ff;border: 1px dotted black;border-radius: 0.25em;box-sizing: border-box;margin-bottom: 0.5em;}#sk-container-id-1 div.sk-estimator:hover {background-color: #d4ebff;}#sk-container-id-1 div.sk-parallel-item::after {content: \"\";width: 100%;border-bottom: 1px solid gray;flex-grow: 1;}#sk-container-id-1 div.sk-label:hover label.sk-toggleable__label {background-color: #d4ebff;}#sk-container-id-1 div.sk-serial::before {content: \"\";position: absolute;border-left: 1px solid gray;box-sizing: border-box;top: 0;bottom: 0;left: 50%;z-index: 0;}#sk-container-id-1 div.sk-serial {display: flex;flex-direction: column;align-items: center;background-color: white;padding-right: 0.2em;padding-left: 0.2em;position: relative;}#sk-container-id-1 div.sk-item {position: relative;z-index: 1;}#sk-container-id-1 div.sk-parallel {display: flex;align-items: stretch;justify-content: center;background-color: white;position: relative;}#sk-container-id-1 div.sk-item::before, #sk-container-id-1 div.sk-parallel-item::before {content: \"\";position: absolute;border-left: 1px solid gray;box-sizing: border-box;top: 0;bottom: 0;left: 50%;z-index: -1;}#sk-container-id-1 div.sk-parallel-item {display: flex;flex-direction: column;z-index: 1;position: relative;background-color: white;}#sk-container-id-1 div.sk-parallel-item:first-child::after {align-self: flex-end;width: 50%;}#sk-container-id-1 div.sk-parallel-item:last-child::after {align-self: flex-start;width: 50%;}#sk-container-id-1 div.sk-parallel-item:only-child::after {width: 0;}#sk-container-id-1 div.sk-dashed-wrapped {border: 1px dashed gray;margin: 0 0.4em 0.5em 0.4em;box-sizing: border-box;padding-bottom: 0.4em;background-color: white;}#sk-container-id-1 div.sk-label label {font-family: monospace;font-weight: bold;display: inline-block;line-height: 1.2em;}#sk-container-id-1 div.sk-label-container {text-align: center;}#sk-container-id-1 div.sk-container {/* jupyter's `normalize.less` sets `[hidden] { display: none; }` but bootstrap.min.css set `[hidden] { display: none !important; }` so we also need the `!important` here to be able to override the default hidden behavior on the sphinx rendered scikit-learn.org. See: https://github.com/scikit-learn/scikit-learn/issues/21755 */display: inline-block !important;position: relative;}#sk-container-id-1 div.sk-text-repr-fallback {display: none;}</style><div id=\"sk-container-id-1\" class=\"sk-top-container\"><div class=\"sk-text-repr-fallback\"><pre>Pipeline(steps=[(&#x27;preprocessor&#x27;,\n",
       "                 ColumnTransformer(transformers=[(&#x27;num&#x27;,\n",
       "                                                  Pipeline(steps=[(&#x27;scaler&#x27;,\n",
       "                                                                   StandardScaler())]),\n",
       "                                                  [&#x27;CreditScore&#x27;, &#x27;Age&#x27;,\n",
       "                                                   &#x27;Balance&#x27;, &#x27;NumOfProducts&#x27;,\n",
       "                                                   &#x27;EstimatedSalary&#x27;]),\n",
       "                                                 (&#x27;cat&#x27;,\n",
       "                                                  Pipeline(steps=[(&#x27;onehot&#x27;,\n",
       "                                                                   OneHotEncoder(handle_unknown=&#x27;ignore&#x27;))]),\n",
       "                                                  [&#x27;Geography&#x27;, &#x27;Gender&#x27;,\n",
       "                                                   &#x27;NumOfProducts&#x27;])])),\n",
       "                (&#x27;classifier&#x27;, LogisticRegression())])</pre><b>In a Jupyter environment, please rerun this cell to show the HTML representation or trust the notebook. <br />On GitHub, the HTML representation is unable to render, please try loading this page with nbviewer.org.</b></div><div class=\"sk-container\" hidden><div class=\"sk-item sk-dashed-wrapped\"><div class=\"sk-label-container\"><div class=\"sk-label sk-toggleable\"><input class=\"sk-toggleable__control sk-hidden--visually\" id=\"sk-estimator-id-1\" type=\"checkbox\" ><label for=\"sk-estimator-id-1\" class=\"sk-toggleable__label sk-toggleable__label-arrow\">Pipeline</label><div class=\"sk-toggleable__content\"><pre>Pipeline(steps=[(&#x27;preprocessor&#x27;,\n",
       "                 ColumnTransformer(transformers=[(&#x27;num&#x27;,\n",
       "                                                  Pipeline(steps=[(&#x27;scaler&#x27;,\n",
       "                                                                   StandardScaler())]),\n",
       "                                                  [&#x27;CreditScore&#x27;, &#x27;Age&#x27;,\n",
       "                                                   &#x27;Balance&#x27;, &#x27;NumOfProducts&#x27;,\n",
       "                                                   &#x27;EstimatedSalary&#x27;]),\n",
       "                                                 (&#x27;cat&#x27;,\n",
       "                                                  Pipeline(steps=[(&#x27;onehot&#x27;,\n",
       "                                                                   OneHotEncoder(handle_unknown=&#x27;ignore&#x27;))]),\n",
       "                                                  [&#x27;Geography&#x27;, &#x27;Gender&#x27;,\n",
       "                                                   &#x27;NumOfProducts&#x27;])])),\n",
       "                (&#x27;classifier&#x27;, LogisticRegression())])</pre></div></div></div><div class=\"sk-serial\"><div class=\"sk-item sk-dashed-wrapped\"><div class=\"sk-label-container\"><div class=\"sk-label sk-toggleable\"><input class=\"sk-toggleable__control sk-hidden--visually\" id=\"sk-estimator-id-2\" type=\"checkbox\" ><label for=\"sk-estimator-id-2\" class=\"sk-toggleable__label sk-toggleable__label-arrow\">preprocessor: ColumnTransformer</label><div class=\"sk-toggleable__content\"><pre>ColumnTransformer(transformers=[(&#x27;num&#x27;,\n",
       "                                 Pipeline(steps=[(&#x27;scaler&#x27;, StandardScaler())]),\n",
       "                                 [&#x27;CreditScore&#x27;, &#x27;Age&#x27;, &#x27;Balance&#x27;,\n",
       "                                  &#x27;NumOfProducts&#x27;, &#x27;EstimatedSalary&#x27;]),\n",
       "                                (&#x27;cat&#x27;,\n",
       "                                 Pipeline(steps=[(&#x27;onehot&#x27;,\n",
       "                                                  OneHotEncoder(handle_unknown=&#x27;ignore&#x27;))]),\n",
       "                                 [&#x27;Geography&#x27;, &#x27;Gender&#x27;, &#x27;NumOfProducts&#x27;])])</pre></div></div></div><div class=\"sk-parallel\"><div class=\"sk-parallel-item\"><div class=\"sk-item\"><div class=\"sk-label-container\"><div class=\"sk-label sk-toggleable\"><input class=\"sk-toggleable__control sk-hidden--visually\" id=\"sk-estimator-id-3\" type=\"checkbox\" ><label for=\"sk-estimator-id-3\" class=\"sk-toggleable__label sk-toggleable__label-arrow\">num</label><div class=\"sk-toggleable__content\"><pre>[&#x27;CreditScore&#x27;, &#x27;Age&#x27;, &#x27;Balance&#x27;, &#x27;NumOfProducts&#x27;, &#x27;EstimatedSalary&#x27;]</pre></div></div></div><div class=\"sk-serial\"><div class=\"sk-item\"><div class=\"sk-serial\"><div class=\"sk-item\"><div class=\"sk-estimator sk-toggleable\"><input class=\"sk-toggleable__control sk-hidden--visually\" id=\"sk-estimator-id-4\" type=\"checkbox\" ><label for=\"sk-estimator-id-4\" class=\"sk-toggleable__label sk-toggleable__label-arrow\">StandardScaler</label><div class=\"sk-toggleable__content\"><pre>StandardScaler()</pre></div></div></div></div></div></div></div></div><div class=\"sk-parallel-item\"><div class=\"sk-item\"><div class=\"sk-label-container\"><div class=\"sk-label sk-toggleable\"><input class=\"sk-toggleable__control sk-hidden--visually\" id=\"sk-estimator-id-5\" type=\"checkbox\" ><label for=\"sk-estimator-id-5\" class=\"sk-toggleable__label sk-toggleable__label-arrow\">cat</label><div class=\"sk-toggleable__content\"><pre>[&#x27;Geography&#x27;, &#x27;Gender&#x27;, &#x27;NumOfProducts&#x27;]</pre></div></div></div><div class=\"sk-serial\"><div class=\"sk-item\"><div class=\"sk-serial\"><div class=\"sk-item\"><div class=\"sk-estimator sk-toggleable\"><input class=\"sk-toggleable__control sk-hidden--visually\" id=\"sk-estimator-id-6\" type=\"checkbox\" ><label for=\"sk-estimator-id-6\" class=\"sk-toggleable__label sk-toggleable__label-arrow\">OneHotEncoder</label><div class=\"sk-toggleable__content\"><pre>OneHotEncoder(handle_unknown=&#x27;ignore&#x27;)</pre></div></div></div></div></div></div></div></div></div></div><div class=\"sk-item\"><div class=\"sk-estimator sk-toggleable\"><input class=\"sk-toggleable__control sk-hidden--visually\" id=\"sk-estimator-id-7\" type=\"checkbox\" ><label for=\"sk-estimator-id-7\" class=\"sk-toggleable__label sk-toggleable__label-arrow\">LogisticRegression</label><div class=\"sk-toggleable__content\"><pre>LogisticRegression()</pre></div></div></div></div></div></div></div>"
      ],
      "text/plain": [
       "Pipeline(steps=[('preprocessor',\n",
       "                 ColumnTransformer(transformers=[('num',\n",
       "                                                  Pipeline(steps=[('scaler',\n",
       "                                                                   StandardScaler())]),\n",
       "                                                  ['CreditScore', 'Age',\n",
       "                                                   'Balance', 'NumOfProducts',\n",
       "                                                   'EstimatedSalary']),\n",
       "                                                 ('cat',\n",
       "                                                  Pipeline(steps=[('onehot',\n",
       "                                                                   OneHotEncoder(handle_unknown='ignore'))]),\n",
       "                                                  ['Geography', 'Gender',\n",
       "                                                   'NumOfProducts'])])),\n",
       "                ('classifier', LogisticRegression())])"
      ]
     },
     "execution_count": 4,
     "metadata": {},
     "output_type": "execute_result"
    }
   ],
   "source": [
    "# Split the training set into features (X) and target variable (y)\n",
    "X_train = df_train.drop(['Exited'], axis=1)\n",
    "y_train = df_train['Exited']\n",
    "\n",
    "# Define transformations for numeric and categorical columns\n",
    "numeric_features = ['CreditScore', 'Age', 'Balance', 'NumOfProducts', 'EstimatedSalary']\n",
    "numeric_transformer = Pipeline(steps=[('scaler', StandardScaler())])\n",
    "\n",
    "categorical_features = ['Geography', 'Gender', 'NumOfProducts']\n",
    "categorical_transformer = Pipeline(steps=[('onehot', OneHotEncoder(handle_unknown='ignore'))])\n",
    "\n",
    "preprocessor = ColumnTransformer(transformers=[('num', numeric_transformer, numeric_features),('cat', categorical_transformer, categorical_features)])\n",
    "\n",
    "# Create the pipeline with the preprocessor and model\n",
    "pipeline = Pipeline(steps=[('preprocessor', preprocessor),('classifier', LogisticRegression())])\n",
    "\n",
    "# Train the model\n",
    "pipeline.fit(X_train, y_train)"
   ]
  },
  {
   "cell_type": "markdown",
   "id": "57dc6d47",
   "metadata": {
    "papermill": {
     "duration": 0.009546,
     "end_time": "2024-01-12T15:26:46.951257",
     "exception": false,
     "start_time": "2024-01-12T15:26:46.941711",
     "status": "completed"
    },
    "tags": []
   },
   "source": [
    "# Create an output"
   ]
  },
  {
   "cell_type": "code",
   "execution_count": 5,
   "id": "2d49d6ab",
   "metadata": {
    "execution": {
     "iopub.execute_input": "2024-01-12T15:26:46.973374Z",
     "iopub.status.busy": "2024-01-12T15:26:46.971537Z",
     "iopub.status.idle": "2024-01-12T15:26:47.335972Z",
     "shell.execute_reply": "2024-01-12T15:26:47.334559Z"
    },
    "papermill": {
     "duration": 0.378698,
     "end_time": "2024-01-12T15:26:47.339209",
     "exception": false,
     "start_time": "2024-01-12T15:26:46.960511",
     "status": "completed"
    },
    "tags": []
   },
   "outputs": [],
   "source": [
    "# Make predictions on test instances and add the predictions to the DataFrame\n",
    "df_test['Exited'] = pipeline.predict_proba(df_test)[:, 1]\n",
    "\n",
    "# Round the output number to one decimal place\n",
    "df_test['Exited'] = df_test['Exited'].round(1)\n",
    "\n",
    "# Select only the necessary columns ('id' and 'Exited')\n",
    "df_predictions = df_test[['id', 'Exited']]\n",
    "\n",
    "# Limit the number of lines\n",
    "df_predictions = df_predictions.head(110023)\n",
    "\n",
    "# Save predictions to a CSV file\n",
    "df_predictions.to_csv('output_predictions.csv', index=False)"
   ]
  },
  {
   "cell_type": "markdown",
   "id": "12bde8a5",
   "metadata": {
    "papermill": {
     "duration": 0.005226,
     "end_time": "2024-01-12T15:26:47.349935",
     "exception": false,
     "start_time": "2024-01-12T15:26:47.344709",
     "status": "completed"
    },
    "tags": []
   },
   "source": [
    "# Analyzes Accuracy and ROC-AUC"
   ]
  },
  {
   "cell_type": "code",
   "execution_count": 6,
   "id": "1be8f505",
   "metadata": {
    "execution": {
     "iopub.execute_input": "2024-01-12T15:26:47.363870Z",
     "iopub.status.busy": "2024-01-12T15:26:47.363399Z",
     "iopub.status.idle": "2024-01-12T15:26:47.626282Z",
     "shell.execute_reply": "2024-01-12T15:26:47.624945Z"
    },
    "papermill": {
     "duration": 0.273322,
     "end_time": "2024-01-12T15:26:47.629426",
     "exception": false,
     "start_time": "2024-01-12T15:26:47.356104",
     "status": "completed"
    },
    "tags": []
   },
   "outputs": [
    {
     "name": "stdout",
     "output_type": "stream",
     "text": [
      "Accuracy on training set: 0.8448\n",
      "ROC-AUC on training set: 0.7017\n"
     ]
    }
   ],
   "source": [
    "# Make predictions on training instances\n",
    "y_train_pred = pipeline.predict(X_train)\n",
    "\n",
    "# Calculate accuracy on the training set\n",
    "accuracy_train = accuracy_score(y_train, y_train_pred)\n",
    "print(f\"Accuracy on training set: {accuracy_train:.4f}\")\n",
    "\n",
    "# Calculate ROC-AUC on the training set\n",
    "roc_auc_train = roc_auc_score(y_train, y_train_pred)\n",
    "print(f\"ROC-AUC on training set: {roc_auc_train:.4f}\")"
   ]
  },
  {
   "cell_type": "code",
   "execution_count": 7,
   "id": "7e933deb",
   "metadata": {
    "execution": {
     "iopub.execute_input": "2024-01-12T15:26:47.645587Z",
     "iopub.status.busy": "2024-01-12T15:26:47.645122Z",
     "iopub.status.idle": "2024-01-12T15:26:48.117615Z",
     "shell.execute_reply": "2024-01-12T15:26:48.116411Z"
    },
    "papermill": {
     "duration": 0.483909,
     "end_time": "2024-01-12T15:26:48.121047",
     "exception": false,
     "start_time": "2024-01-12T15:26:47.637138",
     "status": "completed"
    },
    "tags": []
   },
   "outputs": [
    {
     "name": "stdout",
     "output_type": "stream",
     "text": [
      "Accuracy on test set: 0.9766\n",
      "ROC-AUC on test set: 0.9868\n"
     ]
    }
   ],
   "source": [
    "# Load file paths\n",
    "test_csv_path = '/kaggle/input/playground-series-s4e1/test.csv'\n",
    "predictions_csv_path = '/kaggle/working/output_predictions.csv'\n",
    "\n",
    "# Load the DataFrames\n",
    "df_test = pd.read_csv(test_csv_path)\n",
    "df_predictions = pd.read_csv(predictions_csv_path)\n",
    "\n",
    "# Merge DataFrames based on 'id' column\n",
    "df_test = pd.merge(df_test, df_predictions[['id', 'Exited']], on='id', how='left')\n",
    "\n",
    "# Make predictions on test instances\n",
    "y_test_pred = pipeline.predict_proba(df_test.drop('Exited', axis=1))[:, 1]\n",
    "\n",
    "# Apply the conversion rule\n",
    "threshold = 0.5\n",
    "y_test_pred_binary = np.where(y_test_pred > threshold, 1, np.where(y_test_pred < threshold, 0, np.random.choice([0, 1])))\n",
    "\n",
    "# Round continuous labels\n",
    "y_test_rounded = df_test['Exited'].round()\n",
    "\n",
    "# Calculate accuracy on the test set\n",
    "accuracy_test = accuracy_score(y_test_rounded, y_test_pred_binary)\n",
    "print(f\"Accuracy on test set: {accuracy_test:.4f}\")\n",
    "\n",
    "# Calculate ROC-AUC on the test set\n",
    "roc_auc_test = roc_auc_score(y_test_rounded, y_test_pred_binary)\n",
    "print(f\"ROC-AUC on test set: {roc_auc_test:.4f}\")"
   ]
  },
  {
   "cell_type": "markdown",
   "id": "fbc3be1b",
   "metadata": {
    "papermill": {
     "duration": 0.008596,
     "end_time": "2024-01-12T15:26:48.138717",
     "exception": false,
     "start_time": "2024-01-12T15:26:48.130121",
     "status": "completed"
    },
    "tags": []
   },
   "source": [
    "# Percentage of customers predicted to exit"
   ]
  },
  {
   "cell_type": "code",
   "execution_count": 8,
   "id": "b907136c",
   "metadata": {
    "execution": {
     "iopub.execute_input": "2024-01-12T15:26:48.158287Z",
     "iopub.status.busy": "2024-01-12T15:26:48.157825Z",
     "iopub.status.idle": "2024-01-12T15:26:48.166172Z",
     "shell.execute_reply": "2024-01-12T15:26:48.164653Z"
    },
    "papermill": {
     "duration": 0.020847,
     "end_time": "2024-01-12T15:26:48.168668",
     "exception": false,
     "start_time": "2024-01-12T15:26:48.147821",
     "status": "completed"
    },
    "tags": []
   },
   "outputs": [
    {
     "name": "stdout",
     "output_type": "stream",
     "text": [
      "Percentage of customers predicted to exit: 20.58%\n"
     ]
    }
   ],
   "source": [
    "percentage_general = round((df_predictions['Exited'].sum() / len(df_predictions)) * 100, 2)\n",
    "percentage_general_output = percentage_general\n",
    "print(f\"Percentage of customers predicted to exit: {percentage_general_output:.2f}%\")"
   ]
  },
  {
   "cell_type": "markdown",
   "id": "0faebf72",
   "metadata": {
    "papermill": {
     "duration": 0.005519,
     "end_time": "2024-01-12T15:26:48.179890",
     "exception": false,
     "start_time": "2024-01-12T15:26:48.174371",
     "status": "completed"
    },
    "tags": []
   },
   "source": [
    "# Exploring customer churn: with graphs"
   ]
  },
  {
   "cell_type": "code",
   "execution_count": 9,
   "id": "b907d74d",
   "metadata": {
    "execution": {
     "iopub.execute_input": "2024-01-12T15:26:48.194591Z",
     "iopub.status.busy": "2024-01-12T15:26:48.194128Z",
     "iopub.status.idle": "2024-01-12T15:26:48.582785Z",
     "shell.execute_reply": "2024-01-12T15:26:48.581531Z"
    },
    "papermill": {
     "duration": 0.400227,
     "end_time": "2024-01-12T15:26:48.585946",
     "exception": false,
     "start_time": "2024-01-12T15:26:48.185719",
     "status": "completed"
    },
    "tags": []
   },
   "outputs": [
    {
     "data": {
      "image/png": "[encoded data removed]",
      "text/plain": [
       "<Figure size 800x600 with 1 Axes>"
      ]
     },
     "metadata": {},
     "output_type": "display_data"
    }
   ],
   "source": [
    "# Load predictions from CSV file\n",
    "predictions_csv_path = 'output_predictions.csv'\n",
    "df_predictions = pd.read_csv(predictions_csv_path)\n",
    "\n",
    "# Converting probabilities to percentages\n",
    "df_predictions['Exited'] = df_predictions['Exited'] * 100\n",
    "\n",
    "# Plot the histogram of exit probabilities in percentage\n",
    "plt.figure(figsize=(8, 6))\n",
    "plt.hist(df_predictions['Exited'], bins=50, color='blue', alpha=0.7)\n",
    "plt.xlabel('Exit Probability (%)')\n",
    "plt.ylabel('Frequency')\n",
    "plt.title('Histogram of Exit Probabilities')\n",
    "plt.xticks([0, 10, 20, 30, 40, 50, 60, 70, 80, 90, 100], ['0%', '10%', '20%', '30%', '40%', '50%', '60%', '70%', '80%', '90%', '100%'])\n",
    "plt.show()"
   ]
  },
  {
   "cell_type": "code",
   "execution_count": 10,
   "id": "5d588537",
   "metadata": {
    "execution": {
     "iopub.execute_input": "2024-01-12T15:26:48.602169Z",
     "iopub.status.busy": "2024-01-12T15:26:48.601499Z",
     "iopub.status.idle": "2024-01-12T15:26:48.911620Z",
     "shell.execute_reply": "2024-01-12T15:26:48.910386Z"
    },
    "papermill": {
     "duration": 0.322143,
     "end_time": "2024-01-12T15:26:48.914130",
     "exception": false,
     "start_time": "2024-01-12T15:26:48.591987",
     "status": "completed"
    },
    "tags": []
   },
   "outputs": [
    {
     "data": {
      "image/png": "[encoded data removed]",
      "text/plain": [
       "<Figure size 800x600 with 1 Axes>"
      ]
     },
     "metadata": {},
     "output_type": "display_data"
    }
   ],
   "source": [
    "# Compute ROC curve and ROC area for each class\n",
    "fpr, tpr, _ = roc_curve(y_test_rounded, y_test_pred_binary)\n",
    "roc_auc = auc(fpr, tpr)\n",
    "\n",
    "# Plot ROC curve\n",
    "plt.figure(figsize=(8, 6))\n",
    "plt.plot(fpr, tpr, color='darkorange', lw=2, label='ROC curve (area = {:.4f})'.format(roc_auc))\n",
    "plt.plot([0, 1], [0, 1], color='navy', lw=2, linestyle='--')\n",
    "plt.xlim([0.0, 1.0])\n",
    "plt.ylim([0.0, 1.05])\n",
    "plt.xlabel('False Positive Rate')\n",
    "plt.ylabel('True Positive Rate')\n",
    "plt.title('Receiver Operating Characteristic (ROC) Curve')\n",
    "plt.legend(loc=\"lower right\")\n",
    "plt.show()"
   ]
  },
  {
   "cell_type": "markdown",
   "id": "7ad14981",
   "metadata": {
    "papermill": {
     "duration": 0.006816,
     "end_time": "2024-01-12T15:26:48.927846",
     "exception": false,
     "start_time": "2024-01-12T15:26:48.921030",
     "status": "completed"
    },
    "tags": []
   },
   "source": [
    "# Gratitude\n",
    "## Thank you for following my project. Your interest and support means a lot."
   ]
  }
 ],
 "metadata": {
  "kaggle": {
   "accelerator": "none",
   "dataSources": [
    {
     "databundleVersionId": 7405009,
     "sourceId": 65711,
     "sourceType": "competition"
    }
   ],
   "dockerImageVersionId": 30635,
   "isGpuEnabled": false,
   "isInternetEnabled": true,
   "language": "python",
   "sourceType": "notebook"
  },
  "kernelspec": {
   "display_name": "Python 3",
   "language": "python",
   "name": "python3"
  },
  "language_info": {
   "codemirror_mode": {
    "name": "ipython",
    "version": 3
   },
   "file_extension": ".py",
   "mimetype": "text/x-python",
   "name": "python",
   "nbconvert_exporter": "python",
   "pygments_lexer": "ipython3",
   "version": "3.10.12"
  },
  "papermill": {
   "default_parameters": {},
   "duration": 9.906212,
   "end_time": "2024-01-12T15:26:49.758610",
   "environment_variables": {},
   "exception": null,
   "input_path": "__notebook__.ipynb",
   "output_path": "__notebook__.ipynb",
   "parameters": {},
   "start_time": "2024-01-12T15:26:39.852398",
   "version": "2.4.0"
  }
 },
 "nbformat": 4,
 "nbformat_minor": 5
}
